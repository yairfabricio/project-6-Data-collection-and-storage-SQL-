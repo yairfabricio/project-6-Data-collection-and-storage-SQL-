{
 "cells": [
  {
   "cell_type": "markdown",
   "metadata": {},
   "source": [
    "# ¡Hola, Yair!  \n",
    "\n",
    "Mi nombre es Carlos Ortiz, soy code reviewer de TripleTen y voy a revisar el proyecto que acabas de desarrollar.\n",
    "\n",
    "Cuando vea un error la primera vez, lo señalaré. Deberás encontrarlo y arreglarlo. La intención es que te prepares para un espacio real de trabajo. En un trabajo, el líder de tu equipo hará lo mismo. Si no puedes solucionar el error, te daré más información en la próxima ocasión. \n",
    "\n",
    "Encontrarás mis comentarios más abajo - **por favor, no los muevas, no los modifiques ni los borres**.\n",
    "\n",
    "¿Cómo lo voy a hacer? Voy a leer detenidamente cada una de las implementaciones que has llevado a cabo para cumplir con lo solicitado. Verás los comentarios de esta forma:\n",
    "\n",
    "<div class=\"alert alert-block alert-success\">\n",
    "<b>Comentario del revisor</b> <a class=\"tocSkip\"></a>\n",
    "    \n",
    "Si todo está perfecto.\n",
    "</div>\n",
    "\n",
    "\n",
    "<div class=\"alert alert-block alert-warning\">\n",
    "<b>Comentario del revisor</b> <a class=\"tocSkip\"></a>\n",
    "    \n",
    "Si tu código está bien pero se puede mejorar o hay algún detalle que le hace falta.\n",
    "</div>\n",
    "\n",
    "\n",
    "<div class=\"alert alert-block alert-danger\">\n",
    "    \n",
    "<b>Comentario del revisor</b> <a class=\"tocSkip\"></a>\n",
    "    \n",
    "    \n",
    "Si de pronto hace falta algo o existe algún problema con tu código o conclusiones.\n",
    "</div>\n",
    "\n",
    "\n",
    "Puedes responderme de esta forma: \n",
    "\n",
    "\n",
    "<div class=\"alert alert-block alert-info\">\n",
    "<b>Respuesta del estudiante</b> <a class=\"tocSkip\"></a>\n",
    "</div>\n",
    "¡Empecemos!"
   ]
  },
  {
   "cell_type": "markdown",
   "metadata": {},
   "source": [
    "<div class=\"alert alert-block alert-danger\">\n",
    "<b>Comentario del revisor</b> <a class=\"tocSkip\"></a>\n",
    "    \n",
    "Incluye una breve descripción de tu proyecto.\n",
    "</div>"
   ]
  },
  {
   "cell_type": "markdown",
   "metadata": {},
   "source": [
    "en esta parte del proyecto voy a hacer un analisis de los csv's que obtuve de las consultas de los 3 pasos anteriores, dando una mejor visualizacion por medio de graficos de barras y posteriormente realizar una prueba de hipotesis"
   ]
  },
  {
   "cell_type": "markdown",
   "metadata": {},
   "source": [
    "# Paso 4. Análisis exploratorio de datos (Python)"
   ]
  },
  {
   "cell_type": "markdown",
   "metadata": {},
   "source": [
    "## importar los archivos"
   ]
  },
  {
   "cell_type": "code",
   "execution_count": 1,
   "metadata": {},
   "outputs": [],
   "source": [
    "#importar librerias\n",
    "import pandas as pd\n",
    "import matplotlib.pyplot as plt\n",
    "from scipy import stats as st\n"
   ]
  },
  {
   "cell_type": "code",
   "execution_count": 2,
   "metadata": {},
   "outputs": [],
   "source": [
    "#importar los archivos\n",
    "company_amount =  pd.read_csv('/datasets/project_sql_result_01.csv')\n",
    "dropoff_avarage = pd.read_csv('/datasets/project_sql_result_04.csv')\n",
    "loop_ohare =      pd.read_csv('/datasets/project_sql_result_07.csv')"
   ]
  },
  {
   "cell_type": "markdown",
   "metadata": {},
   "source": [
    "## estudiar los datos que contienen"
   ]
  },
  {
   "cell_type": "code",
   "execution_count": 3,
   "metadata": {},
   "outputs": [
    {
     "name": "stdout",
     "output_type": "stream",
     "text": [
      "<class 'pandas.core.frame.DataFrame'>\n",
      "RangeIndex: 64 entries, 0 to 63\n",
      "Data columns (total 2 columns):\n",
      " #   Column        Non-Null Count  Dtype \n",
      "---  ------        --------------  ----- \n",
      " 0   company_name  64 non-null     object\n",
      " 1   trips_amount  64 non-null     int64 \n",
      "dtypes: int64(1), object(1)\n",
      "memory usage: 1.1+ KB\n",
      "None\n",
      "<class 'pandas.core.frame.DataFrame'>\n",
      "RangeIndex: 94 entries, 0 to 93\n",
      "Data columns (total 2 columns):\n",
      " #   Column                 Non-Null Count  Dtype  \n",
      "---  ------                 --------------  -----  \n",
      " 0   dropoff_location_name  94 non-null     object \n",
      " 1   average_trips          94 non-null     float64\n",
      "dtypes: float64(1), object(1)\n",
      "memory usage: 1.6+ KB\n",
      "None\n"
     ]
    }
   ],
   "source": [
    "#informacion de company_amount\n",
    "print(company_amount.info())\n",
    "#informacion de dropoff_avarage\n",
    "print(dropoff_avarage.info())"
   ]
  },
  {
   "cell_type": "markdown",
   "metadata": {},
   "source": [
    "## identificar los 10 principales barrios en términos de finalización del recorrido"
   ]
  },
  {
   "cell_type": "code",
   "execution_count": 18,
   "metadata": {},
   "outputs": [
    {
     "data": {
      "text/html": [
       "<div>\n",
       "<style scoped>\n",
       "    .dataframe tbody tr th:only-of-type {\n",
       "        vertical-align: middle;\n",
       "    }\n",
       "\n",
       "    .dataframe tbody tr th {\n",
       "        vertical-align: top;\n",
       "    }\n",
       "\n",
       "    .dataframe thead th {\n",
       "        text-align: right;\n",
       "    }\n",
       "</style>\n",
       "<table border=\"1\" class=\"dataframe\">\n",
       "  <thead>\n",
       "    <tr style=\"text-align: right;\">\n",
       "      <th></th>\n",
       "      <th>dropoff_location_name</th>\n",
       "      <th>average_trips</th>\n",
       "    </tr>\n",
       "  </thead>\n",
       "  <tbody>\n",
       "    <tr>\n",
       "      <th>9</th>\n",
       "      <td>Sheffield &amp; DePaul</td>\n",
       "      <td>1259.766667</td>\n",
       "    </tr>\n",
       "    <tr>\n",
       "      <th>8</th>\n",
       "      <td>Gold Coast</td>\n",
       "      <td>1364.233333</td>\n",
       "    </tr>\n",
       "    <tr>\n",
       "      <th>7</th>\n",
       "      <td>Museum Campus</td>\n",
       "      <td>1510.000000</td>\n",
       "    </tr>\n",
       "    <tr>\n",
       "      <th>6</th>\n",
       "      <td>Grant Park</td>\n",
       "      <td>2068.533333</td>\n",
       "    </tr>\n",
       "    <tr>\n",
       "      <th>5</th>\n",
       "      <td>Lake View</td>\n",
       "      <td>2420.966667</td>\n",
       "    </tr>\n",
       "    <tr>\n",
       "      <th>4</th>\n",
       "      <td>O'Hare</td>\n",
       "      <td>2546.900000</td>\n",
       "    </tr>\n",
       "    <tr>\n",
       "      <th>3</th>\n",
       "      <td>West Loop</td>\n",
       "      <td>5163.666667</td>\n",
       "    </tr>\n",
       "    <tr>\n",
       "      <th>2</th>\n",
       "      <td>Streeterville</td>\n",
       "      <td>6664.666667</td>\n",
       "    </tr>\n",
       "    <tr>\n",
       "      <th>1</th>\n",
       "      <td>River North</td>\n",
       "      <td>9523.666667</td>\n",
       "    </tr>\n",
       "    <tr>\n",
       "      <th>0</th>\n",
       "      <td>Loop</td>\n",
       "      <td>10727.466667</td>\n",
       "    </tr>\n",
       "  </tbody>\n",
       "</table>\n",
       "</div>"
      ],
      "text/plain": [
       "  dropoff_location_name  average_trips\n",
       "9    Sheffield & DePaul    1259.766667\n",
       "8            Gold Coast    1364.233333\n",
       "7         Museum Campus    1510.000000\n",
       "6            Grant Park    2068.533333\n",
       "5             Lake View    2420.966667\n",
       "4                O'Hare    2546.900000\n",
       "3             West Loop    5163.666667\n",
       "2         Streeterville    6664.666667\n",
       "1           River North    9523.666667\n",
       "0                  Loop   10727.466667"
      ]
     },
     "execution_count": 18,
     "metadata": {},
     "output_type": "execute_result"
    }
   ],
   "source": [
    "top_10_finalizacion = dropoff_avarage.sort_values(ascending=True, by='average_trips').tail(10)\n",
    "\n",
    "top_10_finalizacion\n"
   ]
  },
  {
   "cell_type": "markdown",
   "metadata": {},
   "source": [
    "## hacer gráficos: empresas de taxis y número de viajes, los 10 barrios principales por número de finalizaciones"
   ]
  },
  {
   "cell_type": "code",
   "execution_count": 21,
   "metadata": {},
   "outputs": [
    {
     "name": "stdout",
     "output_type": "stream",
     "text": [
      "company_name\n",
      "Blue Ribbon Taxi Association Inc.     5953\n",
      "Star North Management LLC             7455\n",
      "Sun Taxi                              7701\n",
      "City Service                          8448\n",
      "Chicago Carriage Cab Corp             9181\n",
      "Taxi Affiliation Service Yellow       9299\n",
      "Yellow Cab                            9888\n",
      "Medallion Leasing                    10367\n",
      "Taxi Affiliation Services            11422\n",
      "Flash Cab                            19558\n",
      "other                                38039\n",
      "Name: trips_amount, dtype: int64\n"
     ]
    },
    {
     "data": {
      "image/png": "[encoded data removed]",
      "text/plain": [
       "<Figure size 432x288 with 1 Axes>"
      ]
     },
     "metadata": {
      "needs_background": "light"
     },
     "output_type": "display_data"
    }
   ],
   "source": [
    "#funcion para agrupar other \n",
    "def plot_top_n_companies(df, n=10):\n",
    "    #agrupar las 10 mejores empresas\n",
    "    total_trips= company_amount.groupby('company_name')['trips_amount'].sum()\n",
    "    top_n_companies = company_amount.groupby('company_name')['trips_amount'].sum().nlargest(n)\n",
    "    #agrupar las otras empresas en other\n",
    "    other = total_trips[~total_trips.index.isin(top_n_companies.index)]\n",
    "    other_sum = other.sum()\n",
    "    top_n_companies = top_n_companies.sort_values()\n",
    "    top_n_companies[\"other\"] =other_sum\n",
    "    \n",
    "    print(top_n_companies)\n",
    "    # Crear un gráfico de barras\n",
    "    top_n_companies.plot(kind='barh', color='skyblue')\n",
    "\n",
    "    # Configurar el título y etiquetas\n",
    "    \n",
    "    plt.title('Número de Viajes por Empresa de Taxis')\n",
    "    plt.xlabel('10 barrios principales')\n",
    "    plt.ylabel('Número de Viajes')\n",
    "    # Mostrar el gráfico\n",
    "    plt.show()\n",
    "plot_top_n_companies(company_amount,10)"
   ]
  },
  {
   "cell_type": "code",
   "execution_count": 19,
   "metadata": {},
   "outputs": [
    {
     "data": {
      "image/png": "[encoded data removed]",
      "text/plain": [
       "<Figure size 432x288 with 1 Axes>"
      ]
     },
     "metadata": {
      "needs_background": "light"
     },
     "output_type": "display_data"
    }
   ],
   "source": [
    "top_10_finalizacion.plot(kind='barh', color='skyblue',x='dropoff_location_name',y='average_trips')\n",
    "\n",
    "plt.title('los 10 barrios principales por número de finalizaciones')\n",
    "\n",
    "plt.xlabel('Empresa de Taxis')\n",
    "plt.ylabel('promedio de viajes')\n",
    "    # Mostrar el gráfico\n",
    "plt.show()"
   ]
  },
  {
   "cell_type": "markdown",
   "metadata": {},
   "source": [
    "## sacar conclusiones basadas en cada gráfico y explicar los resultados"
   ]
  },
  {
   "cell_type": "markdown",
   "metadata": {},
   "source": [
    "en el primer grafico que representa el numero de viajes por empresa  el 15 y 16 de noviembre de 2017 y se ve graficamente flash cab y taxi afilliation services son los que mas viajes hicieron esas fechas y al final vemos una barra de que representa a 54 empresas de taxis y sus viajes\n",
    "\n",
    "en el segundo grafico se ve los 10 barrios principales que fueron destinos siendo el ba"
   ]
  },
  {
   "cell_type": "markdown",
   "metadata": {},
   "source": [
    "# Paso 5. Prueba de hipótesis (Python)"
   ]
  },
  {
   "cell_type": "markdown",
   "metadata": {},
   "source": [
    "hipotesis nula :La duración promedio de los viajes desde el Loop hasta el Aeropuerto Internacional O'Hare es igual los sábados lluviosos\n",
    "hipotesis alternativa: La duración promedio de los viajes desde el Loop hasta el Aeropuerto Internacional O'Hare cambia los sábados lluviosos"
   ]
  },
  {
   "cell_type": "code",
   "execution_count": 7,
   "metadata": {},
   "outputs": [
    {
     "name": "stdout",
     "output_type": "stream",
     "text": [
      "valor p: 1.4959805706438041e-270\n",
      "Rechazamos la hipótesis nula\n"
     ]
    }
   ],
   "source": [
    "normal_day = loop_ohare['weather_conditions'] == 'Good'\n",
    "rain_day = loop_ohare['weather_conditions'] == 'Bad'\n",
    "alpha = 0.05# tu código: establece un nivel crítico de significación estadística\n",
    "\n",
    "results = st.ttest_ind(normal_day,rain_day,equal_var=False)# tu código: prueba la hipótesis de que las medias de las dos poblaciones independientes son iguales\n",
    "\n",
    "print('valor p:',results.pvalue) # tu código: imprime el valor p obtenido)\n",
    "\n",
    "if results.pvalue<alpha:# su código: compara los valores p obtenidos con el nivel de significación estadística):\n",
    "    print(\"Rechazamos la hipótesis nula\")\n",
    "else:\n",
    "    print(\"No podemos rechazar la hipótesis nula\")"
   ]
  },
  {
   "cell_type": "markdown",
   "metadata": {},
   "source": [
    "<div class=\"alert alert-block alert-success\">\n",
    "<b>Comentario del revisor</b> <a class=\"tocSkip\"></a>\n",
    "    \n",
    "Buen trabajo con esta prueba de hipótesis.\n",
    "</div>"
   ]
  },
  {
   "cell_type": "markdown",
   "metadata": {},
   "source": [
    "en conclusion de la prueba de hipotesis de dos colas rechazamos la hipotesis que dice la duración promedio de los viajes desde el Loop hasta el Aeropuerto Internacional O'Hare es igual los sábados lluviosos"
   ]
  },
  {
   "cell_type": "markdown",
   "metadata": {},
   "source": [
    "<div class=\"alert alert-block alert-danger\">\n",
    "    \n",
    "# Comentarios generales\n",
    "<b>Comentario del revisor</b> <a class=\"tocSkip\"></a>\n",
    "    \n",
    "Buen trabajo, Yair. Nos quedana algunos detalles pendientes por solucionar. He dejado comentarios a lo largo del documento para ello.\n",
    "</div>"
   ]
  },
  {
   "cell_type": "markdown",
   "metadata": {},
   "source": [
    "<div class=\"alert alert-block alert-success\">\n",
    "    \n",
    "# Comentarios generales\n",
    "<b>Comentario del revisor</b> <a class=\"tocSkip\"></a>\n",
    "    \n",
    "Todo corregido. Has aprobado un nuevo proyecto. ¡Felicitaciones!\n",
    "</div>"
   ]
  }
 ],
 "metadata": {
  "kernelspec": {
   "display_name": "Python 3 (ipykernel)",
   "language": "python",
   "name": "python3"
  },
  "language_info": {
   "codemirror_mode": {
    "name": "ipython",
    "version": 3
   },
   "file_extension": ".py",
   "mimetype": "text/x-python",
   "name": "python",
   "nbconvert_exporter": "python",
   "pygments_lexer": "ipython3",
   "version": "3.9.5"
  },
  "toc": {
   "base_numbering": 1,
   "nav_menu": {},
   "number_sections": true,
   "sideBar": true,
   "skip_h1_title": true,
   "title_cell": "Table of Contents",
   "title_sidebar": "Contents",
   "toc_cell": false,
   "toc_position": {},
   "toc_section_display": true,
   "toc_window_display": false
  }
 },
 "nbformat": 4,
 "nbformat_minor": 2
}
